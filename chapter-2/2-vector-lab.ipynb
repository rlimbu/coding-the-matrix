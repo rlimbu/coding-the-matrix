{
 "cells": [
  {
   "cell_type": "markdown",
   "metadata": {},
   "source": [
    "## 2.12 Lab: Comparing voting records using dot-product"
   ]
  },
  {
   "cell_type": "markdown",
   "metadata": {},
   "source": [
    "### Task 2.12.1: \n",
    "Write a procedure <i>create_voting_dict(strlist)<\\i> that, given a list of\n",
    "strings (voting records from the source file), returns a dictionary that maps the last name\n",
    "of a senator to a list of numbers representing that senator’s voting record. You will need to\n",
    "use the built-in procedure int(·) to convert a string representation of an integer (e.g. ‘1’)\n",
    "to the actual integer (e.g. 1)."
   ]
  },
  {
   "cell_type": "code",
   "execution_count": 1,
   "metadata": {},
   "outputs": [],
   "source": [
    "# first, read the voting records\n",
    "with open(\"voting_record_dump109.txt\") as f:\n",
    "    mylist = list(f)\n"
   ]
  },
  {
   "cell_type": "code",
   "execution_count": 2,
   "metadata": {},
   "outputs": [],
   "source": [
    "def create_voting_dict(strlist):\n",
    "    d = {}\n",
    "    for t in strlist:\n",
    "        l = t.split() \n",
    "        d[l[0]] = [int(i) for i in l[3:]]\n",
    "    return d"
   ]
  },
  {
   "cell_type": "markdown",
   "metadata": {},
   "source": [
    "### Task 2.12.2: \n",
    "Write a procedure <i>policy_compare(sen a, sen b, voting_dict)</i> that,\n",
    "given two names of senators and a dictionary mapping senator names to lists representing\n",
    "voting records, returns the dot-product representing the degree of similarity between two\n",
    "senators’ voting policies."
   ]
  },
  {
   "cell_type": "code",
   "execution_count": 3,
   "metadata": {},
   "outputs": [],
   "source": [
    "def policy_compare(sen_a, sen_b, voting_dict):\n",
    "    \"\"\"\n",
    "    Given 2 senators' names and a voting dict, returns the degree of similarity between the two senators'\n",
    "    voting policies\n",
    "    \"\"\"\n",
    "    assert sen_a in voting_dict\n",
    "    assert sen_b in voting_dict\n",
    "    \n",
    "    return sum([i * j for i, j in zip(voting_dict[sen_a], voting_dict[sen_b])])    "
   ]
  },
  {
   "cell_type": "code",
   "execution_count": 4,
   "metadata": {},
   "outputs": [],
   "source": [
    "v_dict = create_voting_dict(mylist)"
   ]
  },
  {
   "cell_type": "code",
   "execution_count": 5,
   "metadata": {},
   "outputs": [
    {
     "data": {
      "text/plain": [
       "12"
      ]
     },
     "execution_count": 5,
     "metadata": {},
     "output_type": "execute_result"
    }
   ],
   "source": [
    "policy_compare(\"Allen\", \"Akaka\", v_dict)"
   ]
  },
  {
   "cell_type": "markdown",
   "metadata": {},
   "source": [
    "### Task 2.12.3: \n",
    "Write a procedure <i>most_similar(sen, voting_dict)</i> that, given the name\n",
    "of a senator and a dictionary mapping senator names to lists representing voting records,\n",
    "returns the name of the senator whose political mindset is most like the input senator\n",
    "(excluding, of course, the input senator him/herself)."
   ]
  },
  {
   "cell_type": "code",
   "execution_count": 6,
   "metadata": {},
   "outputs": [],
   "source": [
    "def most_similar(sen, voting_dict):\n",
    "    assert sen in voting_dict\n",
    "     \n",
    "    # create a dict to hold the dot-product of senators with sen\n",
    "    d = {k: policy_compare(sen, k, voting_dict) for k in voting_dict.keys()}\n",
    "    \n",
    "    # delete sen\n",
    "    del d[sen]\n",
    "    \n",
    "    # list of tuple of senators with agreement in descending order by value, i.e. voting similarity\n",
    "    sen_max_list = sorted(d.items(), key=lambda kv: kv[1], reverse=True) \n",
    "    \n",
    "    # return just the name of the senator\n",
    "    \n",
    "    return sen_max_list[0][0]"
   ]
  },
  {
   "cell_type": "code",
   "execution_count": 7,
   "metadata": {},
   "outputs": [
    {
     "data": {
      "text/plain": [
       "'Bond'"
      ]
     },
     "execution_count": 7,
     "metadata": {},
     "output_type": "execute_result"
    }
   ],
   "source": [
    "most_similar(\"Allen\", v_dict)"
   ]
  },
  {
   "cell_type": "markdown",
   "metadata": {},
   "source": [
    "### Task 2.12.4: \n",
    "Write a very similar procedure least_similar(sen, voting_dict) that\n",
    "returns the name of the senator whose voting record agrees the least with the senator whose\n",
    "name is sen."
   ]
  },
  {
   "cell_type": "code",
   "execution_count": 8,
   "metadata": {},
   "outputs": [],
   "source": [
    "def least_similar(sen, voting_dict):\n",
    "    assert sen in voting_dict\n",
    "     \n",
    "    # create a dict to hold dot product of senators with sen\n",
    "    d = {k: policy_compare(sen, k, voting_dict) for k, _ in voting_dict.items()}\n",
    "    \n",
    "    # delete sen\n",
    "    del d[sen]\n",
    "    \n",
    "    # list of tuple of senators with agreement in ascending order by value, i.e. voting similarity\n",
    "    sen_min_list = sorted(d.items(), key=lambda kv: kv[1]) \n",
    "    \n",
    "    # return both the name of the senator and the similarity score so that this procedure can be used\n",
    "    # in 2.12.12\n",
    "    \n",
    "    return sen_min_list[0]"
   ]
  },
  {
   "cell_type": "code",
   "execution_count": 9,
   "metadata": {},
   "outputs": [
    {
     "data": {
      "text/plain": [
       "'Sununu'"
      ]
     },
     "execution_count": 9,
     "metadata": {},
     "output_type": "execute_result"
    }
   ],
   "source": [
    "least_similar(\"Boxer\", v_dict)[0]"
   ]
  },
  {
   "cell_type": "markdown",
   "metadata": {},
   "source": [
    "### Task 2.12.5: \n",
    "Use these procedures to figure out which senator is most like Rhode Island\n",
    "legend Lincoln Chafee. Then use these procedures to see who disagrees most with Pennsylvania’s Rick Santorum. Give their names"
   ]
  },
  {
   "cell_type": "code",
   "execution_count": 10,
   "metadata": {},
   "outputs": [
    {
     "data": {
      "text/plain": [
       "'Jeffords'"
      ]
     },
     "execution_count": 10,
     "metadata": {},
     "output_type": "execute_result"
    }
   ],
   "source": [
    "most_similar(\"Chafee\", v_dict)"
   ]
  },
  {
   "cell_type": "code",
   "execution_count": 11,
   "metadata": {},
   "outputs": [
    {
     "data": {
      "text/plain": [
       "('Feingold', 3)"
      ]
     },
     "execution_count": 11,
     "metadata": {},
     "output_type": "execute_result"
    }
   ],
   "source": [
    "least_similar(\"Santorum\", v_dict)"
   ]
  },
  {
   "cell_type": "markdown",
   "metadata": {},
   "source": [
    "### Task 2.12.6: \n",
    "How similar are the voting records of the two senators from your favorite state?"
   ]
  },
  {
   "cell_type": "code",
   "execution_count": 12,
   "metadata": {},
   "outputs": [
    {
     "data": {
      "text/plain": [
       "30"
      ]
     },
     "execution_count": 12,
     "metadata": {},
     "output_type": "execute_result"
    }
   ],
   "source": [
    "policy_compare(\"Boxer\", \"Feinstein\",v_dict)"
   ]
  },
  {
   "cell_type": "markdown",
   "metadata": {},
   "source": [
    "### Task 2.12.7: \n",
    "Write a procedure <i>find_average_similarity(sen, sen_set, voting_dict)</i>\n",
    "that, given the name sen of a senator, compares that senator’s voting record to the voting\n",
    "records of all senators whose names are in sen set, computing a dot-product for each, and\n",
    "then returns the average dot-product.\n",
    "Use your procedure to compute which senator has the greatest average similarity with\n",
    "the set of Democrats (you can extract this set from the input file)."
   ]
  },
  {
   "cell_type": "code",
   "execution_count": 13,
   "metadata": {},
   "outputs": [],
   "source": [
    "def find_average_similarity(sen, sen_set, voting_dict):\n",
    "    \"\"\"\n",
    "    Computes the average similarity of the voting record of sen with\n",
    "    senators in sen_set\n",
    "    \n",
    "    To make this procedure more general, exclude senator from sen_set if this senator is same as sen\n",
    "    \n",
    "    \"\"\"\n",
    "    \n",
    "    return sum([policy_compare(sen, sen_other, voting_dict) for sen_other in sen_set]) / len(sen_set) \n",
    "    # /* if sen != sen_other */"
   ]
  },
  {
   "cell_type": "raw",
   "metadata": {},
   "source": [
    "The test the procedure."
   ]
  },
  {
   "cell_type": "code",
   "execution_count": 14,
   "metadata": {},
   "outputs": [],
   "source": [
    "# create a helper function to return senators belonging to the Democratic (default) or Republican party\n",
    "def find_sens_by_party(strlist, party=\"D\"):\n",
    "    s = set()\n",
    "    for t in strlist:\n",
    "        l = t.split() \n",
    "        if l[1] == party:\n",
    "            s.add(l[0])\n",
    "    return s    "
   ]
  },
  {
   "cell_type": "code",
   "execution_count": 15,
   "metadata": {},
   "outputs": [],
   "source": [
    "sen_dem = find_sens_by_party(mylist)\n",
    "sen_rep = find_sens_by_party(mylist, \"R\")"
   ]
  },
  {
   "cell_type": "code",
   "execution_count": 16,
   "metadata": {},
   "outputs": [
    {
     "data": {
      "text/plain": [
       "31.697674418604652"
      ]
     },
     "execution_count": 16,
     "metadata": {},
     "output_type": "execute_result"
    }
   ],
   "source": [
    "find_average_similarity(\"Obama\", sen_dem, v_dict)"
   ]
  },
  {
   "cell_type": "code",
   "execution_count": 17,
   "metadata": {},
   "outputs": [
    {
     "data": {
      "text/plain": [
       "20.618181818181817"
      ]
     },
     "execution_count": 17,
     "metadata": {},
     "output_type": "execute_result"
    }
   ],
   "source": [
    "find_average_similarity(\"Obama\", sen_rep, v_dict)"
   ]
  },
  {
   "cell_type": "markdown",
   "metadata": {},
   "source": [
    "Now, find which senator has the greatest voting similarity with the set of the democratic senators."
   ]
  },
  {
   "cell_type": "code",
   "execution_count": 18,
   "metadata": {},
   "outputs": [],
   "source": [
    "all_sens = sen_dem.union(sen_rep)"
   ]
  },
  {
   "cell_type": "code",
   "execution_count": 19,
   "metadata": {},
   "outputs": [],
   "source": [
    "most_similar_to_dems = {sen: find_average_similarity(sen, sen_dem, v_dict) for sen in all_sens}"
   ]
  },
  {
   "cell_type": "code",
   "execution_count": 20,
   "metadata": {},
   "outputs": [
    {
     "data": {
      "text/plain": [
       "[('Biden', 34.86046511627907),\n",
       " ('Sarbanes', 34.674418604651166),\n",
       " ('Durbin', 34.674418604651166),\n",
       " ('Dodd', 34.13953488372093),\n",
       " ('Kennedy', 33.674418604651166),\n",
       " ('Reid', 33.604651162790695),\n",
       " ('Mikulski', 33.23255813953488),\n",
       " ('Dayton', 33.18604651162791),\n",
       " ('Reed', 33.0),\n",
       " ('Levin', 32.72093023255814)]"
      ]
     },
     "execution_count": 20,
     "metadata": {},
     "output_type": "execute_result"
    }
   ],
   "source": [
    "# view the top 10 senators with most similar voting record to the set of Democratic senators\n",
    "sorted(most_similar_to_dems.items(), key=lambda kv: kv[1], reverse=True)[:10]"
   ]
  },
  {
   "cell_type": "markdown",
   "metadata": {},
   "source": [
    "Senator Joe Biden, the current Democratic forerunnner for the US 2020 presential election, turns out to have the greatest voting similarity to the set of democratic senators in the file. "
   ]
  },
  {
   "cell_type": "markdown",
   "metadata": {},
   "source": [
    "### Task 2.12.8: \n",
    "Write a procedure <i>find_average_record(sen_set, voting_dict)</i> that,\n",
    "given a set of names of senators, finds the average voting record. That is, perform vector\n",
    "addition on the lists representing their voting records, and then divide the sum by the number\n",
    "of vectors. The result should be a vector.\n",
    "\n",
    "Use this procedure to compute the average voting record for the set of Democrats, and\n",
    "assign the result to the variable average Democrat record. Next find which senator’s\n",
    "voting record is most similar to the <i>average_Democrat_voting_record</i>. Did you get the same\n",
    "result as in Task 2.12.7? Can you explain?"
   ]
  },
  {
   "cell_type": "code",
   "execution_count": 21,
   "metadata": {},
   "outputs": [],
   "source": [
    "def find_average_record(sen_set, voting_dict):\n",
    "    # create a 46-n 0 vector to hold the average of senatorial votes\n",
    "    # Rather than hard-coding 46, it is calculated from voting_dict\n",
    "    avg_voting_vec = [0 for _ in range(len(list(voting_dict.values())[0]))]\n",
    "    n = len(avg_voting_vec)\n",
    "    \n",
    "    for sen in sen_set:\n",
    "        avg_voting_vec =  [elem1 + elem2 for elem1, elem2 in zip(avg_voting_vec, voting_dict[sen])]\n",
    "    \n",
    "    return [elem / n for elem in avg_voting_vec]"
   ]
  },
  {
   "cell_type": "code",
   "execution_count": 22,
   "metadata": {},
   "outputs": [],
   "source": [
    "average_Democrat_record = find_average_record(sen_dem, v_dict)"
   ]
  },
  {
   "cell_type": "markdown",
   "metadata": {},
   "source": [
    "Find which senator's record is most similar to the average democratic record."
   ]
  },
  {
   "cell_type": "code",
   "execution_count": 23,
   "metadata": {},
   "outputs": [],
   "source": [
    "# create a helper function to compute dot-product of 2 vectors\n",
    "def dot_product(u, v):\n",
    "    return sum([u1 * v1 for u1, v1 in zip(u, v)])"
   ]
  },
  {
   "cell_type": "code",
   "execution_count": 24,
   "metadata": {},
   "outputs": [],
   "source": [
    "most_similar_to_dem_avg = {sen: dot_product(average_Democrat_record, v_dict[sen]) for sen in all_sens}"
   ]
  },
  {
   "cell_type": "code",
   "execution_count": 25,
   "metadata": {},
   "outputs": [
    {
     "data": {
      "text/plain": [
       "[('Biden', 32.58695652173913),\n",
       " ('Sarbanes', 32.413043478260875),\n",
       " ('Durbin', 32.413043478260875),\n",
       " ('Dodd', 31.913043478260878),\n",
       " ('Kennedy', 31.478260869565226),\n",
       " ('Reid', 31.41304347826088),\n",
       " ('Mikulski', 31.06521739130436),\n",
       " ('Dayton', 31.021739130434785),\n",
       " ('Reed', 30.847826086956534),\n",
       " ('Levin', 30.58695652173914)]"
      ]
     },
     "execution_count": 25,
     "metadata": {},
     "output_type": "execute_result"
    }
   ],
   "source": [
    "# display the top 10 most similar to dem avg\n",
    "sorted(most_similar_to_dem_avg.items(), key=lambda kv: kv[1], reverse=True)[:10]"
   ]
  },
  {
   "cell_type": "markdown",
   "metadata": {},
   "source": [
    "Senator Biden's record is again most similar to the average Democratic record even though similarity scores in this instance are slightly different. \n",
    "\n",
    "The fact that the same faces were again found to be the top 10 senators with the most similar voting record to the average Democratic voting record demonstrates the distributive property of dot-product. The same results were arrived at using different but equilavent calculations thanks to the distributive property of dot-product."
   ]
  },
  {
   "cell_type": "markdown",
   "metadata": {},
   "source": [
    "### Task 2.12.9: \n",
    "Write a procedure <i>bitter_rivals(voting_dict)</i> to find which two senators disagree the most."
   ]
  },
  {
   "cell_type": "code",
   "execution_count": 26,
   "metadata": {},
   "outputs": [],
   "source": [
    "def bitter_rivals(voting_dict):\n",
    "    d = {}\n",
    "    for sen in all_sens:\n",
    "        least_sim = least_similar(sen, voting_dict)\n",
    "        d[sen+\" <-> \"+least_sim[0]] = least_sim[1]\n",
    "    return sorted(d.items(), key=lambda kv: kv[1])"
   ]
  },
  {
   "cell_type": "code",
   "execution_count": 27,
   "metadata": {},
   "outputs": [],
   "source": [
    "bitter_rivals_set = bitter_rivals(v_dict)"
   ]
  },
  {
   "cell_type": "markdown",
   "metadata": {},
   "source": [
    "View the top 10 bitterest rivals."
   ]
  },
  {
   "cell_type": "code",
   "execution_count": 28,
   "metadata": {},
   "outputs": [
    {
     "data": {
      "text/plain": [
       "[('Feingold <-> Inhofe', -3),\n",
       " ('Inhofe <-> Feingold', -3),\n",
       " ('Bunning <-> Feingold', -2),\n",
       " ('Ensign <-> Feingold', -2),\n",
       " ('Sununu <-> Feingold', -1),\n",
       " ('Allard <-> Feingold', 0),\n",
       " ('Enzi <-> Feingold', 0),\n",
       " ('Chambliss <-> Feingold', 0),\n",
       " ('Isakson <-> Feingold', 0),\n",
       " ('Leahy <-> Sununu', 1)]"
      ]
     },
     "execution_count": 28,
     "metadata": {},
     "output_type": "execute_result"
    }
   ],
   "source": [
    "bitter_rivals_set[:10]"
   ]
  },
  {
   "cell_type": "markdown",
   "metadata": {},
   "source": [
    "<i>Inhofe vs Feingold</i> appears twice above. And Feingold appears 9 out of 10 times in the bitterest rivals honor list!  "
   ]
  },
  {
   "cell_type": "code",
   "execution_count": 29,
   "metadata": {},
   "outputs": [],
   "source": [
    "freq = [r[0].split(\"<->\")[1].strip() for r in bitter_rivals_set]"
   ]
  },
  {
   "cell_type": "markdown",
   "metadata": {},
   "source": [
    "## 2.12.7 Open-ended study"
   ]
  },
  {
   "cell_type": "markdown",
   "metadata": {},
   "source": [
    " * Is John McCain really a maverick?"
   ]
  },
  {
   "cell_type": "code",
   "execution_count": 30,
   "metadata": {},
   "outputs": [],
   "source": [
    "# turn freq into a dictionary with frequency count\n",
    "freq_map = {}\n",
    "for elem in freq:\n",
    "    freq_map[elem] = freq_map.get(elem, 0) + 1"
   ]
  },
  {
   "cell_type": "markdown",
   "metadata": {},
   "source": [
    "Plot the frequency map."
   ]
  },
  {
   "cell_type": "code",
   "execution_count": 31,
   "metadata": {},
   "outputs": [],
   "source": [
    "import pandas as pd\n",
    "import seaborn as sns\n",
    "import matplotlib.pyplot as plt\n",
    "%matplotlib inline"
   ]
  },
  {
   "cell_type": "code",
   "execution_count": 32,
   "metadata": {},
   "outputs": [],
   "source": [
    "dfFreqMap = pd.DataFrame(list(freq_map.items()), columns=['senator', 'freq']).sort_values(by=\"freq\", ascending=False)"
   ]
  },
  {
   "cell_type": "code",
   "execution_count": 33,
   "metadata": {},
   "outputs": [
    {
     "data": {
      "text/plain": [
       "''"
      ]
     },
     "execution_count": 33,
     "metadata": {},
     "output_type": "execute_result"
    },
    {
     "data": {
      "image/png": "[encoded data removed]",
      "text/plain": [
       "<Figure size 864x576 with 1 Axes>"
      ]
     },
     "metadata": {
      "needs_background": "light"
     },
     "output_type": "display_data"
    }
   ],
   "source": [
    "plt.figure(figsize=(12, 8))\n",
    "sns.barplot(y=dfFreqMap.senator, x=dfFreqMap.freq)\n",
    "plt.ylabel(\"\")\n",
    "plt.xlabel(\"count\")\n",
    "plt.title(\"Number of Times a Senator Appeared as Least Agreeable\")\n",
    ";"
   ]
  },
  {
   "cell_type": "markdown",
   "metadata": {},
   "source": [
    "The late senator McCain was certainly a maverick but not as much as senators Feingold, Sununu, Inhofe, Coburn and Akaka."
   ]
  }
 ],
 "metadata": {
  "kernelspec": {
   "display_name": "Python 3",
   "language": "python",
   "name": "python3"
  },
  "language_info": {
   "codemirror_mode": {
    "name": "ipython",
    "version": 3
   },
   "file_extension": ".py",
   "mimetype": "text/x-python",
   "name": "python",
   "nbconvert_exporter": "python",
   "pygments_lexer": "ipython3",
   "version": "3.7.1"
  }
 },
 "nbformat": 4,
 "nbformat_minor": 2
}
