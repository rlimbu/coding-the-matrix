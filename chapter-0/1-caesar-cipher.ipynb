{
 "cells": [
  {
   "cell_type": "markdown",
   "metadata": {},
   "source": [
    "# Caesar Cipher"
   ]
  },
  {
   "cell_type": "markdown",
   "metadata": {},
   "source": [
    "An implementation of [Caesar cipher](https://en.wikipedia.org/wiki/Caesar_cipher) follows."
   ]
  },
  {
   "cell_type": "code",
   "execution_count": 1,
   "metadata": {},
   "outputs": [],
   "source": [
    "import string\n",
    "from pprint import pprint"
   ]
  },
  {
   "cell_type": "markdown",
   "metadata": {},
   "source": [
    "First, create maps that (i) translate alphabets into integers such that A -> 0, B -> 1, etc., (ii) offset resulting set of integers by 3 so that i -> (i + 3) % 26, and (iii) map integers to alphabets so that 0 -> A, 1 -> B, etc."
   ]
  },
  {
   "cell_type": "code",
   "execution_count": 2,
   "metadata": {},
   "outputs": [],
   "source": [
    "upper_alpha_list = list(string.ascii_uppercase)\n",
    "alpha_to_int_map = {alpha:n for n, alpha in enumerate(upper_alpha_list)}\n",
    "offset_map = {n: (n + 3) % 26 for n in range(26)}\n",
    "int_to_alpha_map = {v:k for k, v in alpha_to_int_map.items()}"
   ]
  },
  {
   "cell_type": "markdown",
   "metadata": {},
   "source": [
    "Create a factory function to generate functions that yield mapped elements based on passed maps using Python's closure facility."
   ]
  },
  {
   "cell_type": "code",
   "execution_count": 3,
   "metadata": {},
   "outputs": [],
   "source": [
    "def func_factory(d):\n",
    "    \"\"\"Return function maps the passed iterable based on the map in the enclosing function\"\"\"\n",
    "    def wrapped_func(iterable):\n",
    "        for elem in iterable:\n",
    "            yield d.get(elem, elem)\n",
    "    return wrapped_func        "
   ]
  },
  {
   "cell_type": "code",
   "execution_count": 4,
   "metadata": {},
   "outputs": [],
   "source": [
    "f = func_factory(alpha_to_int_map)\n",
    "g = func_factory(offset_map)\n",
    "h = func_factory(int_to_alpha_map)"
   ]
  },
  {
   "cell_type": "code",
   "execution_count": 5,
   "metadata": {},
   "outputs": [],
   "source": [
    "plain_msg = \"Put all the captured Gauls to the sword!\".upper()"
   ]
  },
  {
   "cell_type": "code",
   "execution_count": 6,
   "metadata": {},
   "outputs": [
    {
     "data": {
      "text/plain": [
       "'SXW DOO WKH FDSWXUHG JDXOV WR WKH VZRUG!'"
      ]
     },
     "execution_count": 6,
     "metadata": {},
     "output_type": "execute_result"
    }
   ],
   "source": [
    "\"\".join(list(h(g(f(plain_msg)))))"
   ]
  },
  {
   "cell_type": "markdown",
   "metadata": {},
   "source": [
    "Of course, Caesar's soldiers would have needed a way to decrypt the secret messages. All that is required is a map that represents an inverse of <i>offset_map</i> and a function that decrypts the message using this map."
   ]
  },
  {
   "cell_type": "code",
   "execution_count": 7,
   "metadata": {},
   "outputs": [],
   "source": [
    "offset_map_reverse = {n: (n - 3) % 26 for n in range(26)}\n",
    "j = func_factory(offset_map_reverse)"
   ]
  },
  {
   "cell_type": "markdown",
   "metadata": {},
   "source": [
    "Print the contents of <i>offset_map_reverse</i>:"
   ]
  },
  {
   "cell_type": "code",
   "execution_count": 8,
   "metadata": {},
   "outputs": [
    {
     "name": "stdout",
     "output_type": "stream",
     "text": [
      "{0: 23,\n",
      " 1: 24,\n",
      " 2: 25,\n",
      " 3: 0,\n",
      " 4: 1,\n",
      " 5: 2,\n",
      " 6: 3,\n",
      " 7: 4,\n",
      " 8: 5,\n",
      " 9: 6,\n",
      " 10: 7,\n",
      " 11: 8,\n",
      " 12: 9,\n",
      " 13: 10,\n",
      " 14: 11,\n",
      " 15: 12,\n",
      " 16: 13,\n",
      " 17: 14,\n",
      " 18: 15,\n",
      " 19: 16,\n",
      " 20: 17,\n",
      " 21: 18,\n",
      " 22: 19,\n",
      " 23: 20,\n",
      " 24: 21,\n",
      " 25: 22}\n"
     ]
    }
   ],
   "source": [
    "pprint(offset_map_reverse)"
   ]
  },
  {
   "cell_type": "code",
   "execution_count": 9,
   "metadata": {},
   "outputs": [],
   "source": [
    "secret_msg = \"L FDPH, L VDZ, L FRQTXHUHG!\""
   ]
  },
  {
   "cell_type": "code",
   "execution_count": 10,
   "metadata": {},
   "outputs": [
    {
     "data": {
      "text/plain": [
       "'I CAME, I SAW, I CONQUERED!'"
      ]
     },
     "execution_count": 10,
     "metadata": {},
     "output_type": "execute_result"
    }
   ],
   "source": [
    "\"\".join(list(h(j(f(secret_msg)))))"
   ]
  }
 ],
 "metadata": {
  "kernelspec": {
   "display_name": "Python 3",
   "language": "python",
   "name": "python3"
  },
  "language_info": {
   "codemirror_mode": {
    "name": "ipython",
    "version": 3
   },
   "file_extension": ".py",
   "mimetype": "text/x-python",
   "name": "python",
   "nbconvert_exporter": "python",
   "pygments_lexer": "ipython3",
   "version": "3.7.1"
  }
 },
 "nbformat": 4,
 "nbformat_minor": 2
}
