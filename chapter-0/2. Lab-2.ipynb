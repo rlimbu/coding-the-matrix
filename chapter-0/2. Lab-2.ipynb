{
 "cells": [
  {
   "cell_type": "markdown",
   "metadata": {},
   "source": [
    "### Task 0.6.6"
   ]
  },
  {
   "cell_type": "markdown",
   "metadata": {},
   "source": [
    "Write a procedure <i>makeInverseIndex(strlist)</i> that, given a list of strings\n",
    "(documents), returns a dictionary that maps each word to the set consisting of the document\n",
    "numbers of documents in which that word appears. This dictionary is called an inverse index.\n",
    "(Hint: use enumerate.)\n",
    "\n",
    "...\n",
    "\n",
    "Try out your procedures on these two provided files:\n",
    "\n",
    "1. stories_small.txt\n",
    "2. stories_big.txt\n"
   ]
  },
  {
   "cell_type": "code",
   "execution_count": 1,
   "metadata": {},
   "outputs": [],
   "source": [
    "with open(\"stories_small.txt\", 'r') as f:\n",
    "    lines = f.readlines()"
   ]
  },
  {
   "cell_type": "code",
   "execution_count": 2,
   "metadata": {},
   "outputs": [],
   "source": [
    "from collections import defaultdict"
   ]
  },
  {
   "cell_type": "code",
   "execution_count": 3,
   "metadata": {},
   "outputs": [],
   "source": [
    "def makeInverseIndex(strList):\n",
    "    d = defaultdict(set)\n",
    "    index_to_words = {index:word.split() for index, word in enumerate(strList)}\n",
    "    for k, list in index_to_words.items():\n",
    "        for word in list:\n",
    "            d[word].add(k)\n",
    "    return d"
   ]
  },
  {
   "cell_type": "code",
   "execution_count": 4,
   "metadata": {},
   "outputs": [],
   "source": [
    "inverseIndex = makeInverseIndex(lines)"
   ]
  },
  {
   "cell_type": "code",
   "execution_count": 5,
   "metadata": {},
   "outputs": [
    {
     "data": {
      "text/plain": [
       "{0, 2, 3, 4, 5, 9, 10, 13, 17, 18, 20, 47, 49}"
      ]
     },
     "execution_count": 5,
     "metadata": {},
     "output_type": "execute_result"
    }
   ],
   "source": [
    "inverseIndex.get('course', 'not found')"
   ]
  },
  {
   "cell_type": "markdown",
   "metadata": {},
   "source": [
    "### Task 0.6.7"
   ]
  },
  {
   "cell_type": "markdown",
   "metadata": {},
   "source": [
    "Write a procedure <i>orSearch(inverseIndex, query)</i> which takes an inverse\n",
    "index and a list of words query, and returns the set of document numbers specifying all\n",
    "documents that conain any of the words in query."
   ]
  },
  {
   "cell_type": "code",
   "execution_count": 6,
   "metadata": {},
   "outputs": [],
   "source": [
    "def orSearch(inverseIndex, query):\n",
    "    union_of_dicts = set()\n",
    "    list_of_dicts =  [inverseIndex[word] for word in query]\n",
    "    for d in list_of_dicts:\n",
    "        union_of_dicts = union_of_dicts | d\n",
    "    return union_of_dicts"
   ]
  },
  {
   "cell_type": "code",
   "execution_count": 7,
   "metadata": {},
   "outputs": [
    {
     "data": {
      "text/plain": [
       "{0, 2, 3, 4, 5, 9, 10, 13, 17, 18, 20, 47, 49}"
      ]
     },
     "execution_count": 7,
     "metadata": {},
     "output_type": "execute_result"
    }
   ],
   "source": [
    "inverseIndex['course']"
   ]
  },
  {
   "cell_type": "code",
   "execution_count": 8,
   "metadata": {},
   "outputs": [
    {
     "data": {
      "text/plain": [
       "{5, 11, 14, 47}"
      ]
     },
     "execution_count": 8,
     "metadata": {},
     "output_type": "execute_result"
    }
   ],
   "source": [
    "inverseIndex['word']"
   ]
  },
  {
   "cell_type": "code",
   "execution_count": 9,
   "metadata": {},
   "outputs": [
    {
     "data": {
      "text/plain": [
       "{0, 2, 3, 4, 5, 9, 10, 11, 13, 14, 17, 18, 20, 47, 49}"
      ]
     },
     "execution_count": 9,
     "metadata": {},
     "output_type": "execute_result"
    }
   ],
   "source": [
    "orSearch(inverseIndex, ['course', 'word'])"
   ]
  },
  {
   "cell_type": "markdown",
   "metadata": {},
   "source": [
    "### Task 0.6.8"
   ]
  },
  {
   "cell_type": "markdown",
   "metadata": {},
   "source": [
    "Write a procedure <i>andSearch(inverseIndex, query)</i> which takes an in-\n",
    "verse index and a list of words query, and returns the set of document numbers specifying\n",
    "all documents that contain all of the words in query."
   ]
  },
  {
   "cell_type": "code",
   "execution_count": 10,
   "metadata": {},
   "outputs": [],
   "source": [
    "def andSearch(inverseIndex, query):\n",
    "    intersection_of_dicts = set()\n",
    "    list_of_dicts =  [inverseIndex[word] for word in query]\n",
    "    for d in list_of_dicts:\n",
    "        if not intersection_of_dicts:\n",
    "            intersection_of_dicts = d\n",
    "        else:\n",
    "            intersection_of_dicts = intersection_of_dicts & d\n",
    "    return intersection_of_dicts"
   ]
  },
  {
   "cell_type": "code",
   "execution_count": 11,
   "metadata": {},
   "outputs": [
    {
     "data": {
      "text/plain": [
       "{0, 2, 3, 4, 5, 9, 10, 13, 17, 18, 20, 47, 49}"
      ]
     },
     "execution_count": 11,
     "metadata": {},
     "output_type": "execute_result"
    }
   ],
   "source": [
    "inverseIndex['course']"
   ]
  },
  {
   "cell_type": "code",
   "execution_count": 12,
   "metadata": {},
   "outputs": [
    {
     "data": {
      "text/plain": [
       "{5, 11, 14, 47}"
      ]
     },
     "execution_count": 12,
     "metadata": {},
     "output_type": "execute_result"
    }
   ],
   "source": [
    "inverseIndex['word']"
   ]
  },
  {
   "cell_type": "code",
   "execution_count": 13,
   "metadata": {},
   "outputs": [
    {
     "data": {
      "text/plain": [
       "{5, 47}"
      ]
     },
     "execution_count": 13,
     "metadata": {},
     "output_type": "execute_result"
    }
   ],
   "source": [
    "andSearch(inverseIndex, ['course', 'word'])"
   ]
  }
 ],
 "metadata": {
  "kernelspec": {
   "display_name": "Python 3",
   "language": "python",
   "name": "python3"
  },
  "language_info": {
   "codemirror_mode": {
    "name": "ipython",
    "version": 3
   },
   "file_extension": ".py",
   "mimetype": "text/x-python",
   "name": "python",
   "nbconvert_exporter": "python",
   "pygments_lexer": "ipython3",
   "version": "3.7.1"
  }
 },
 "nbformat": 4,
 "nbformat_minor": 2
}
