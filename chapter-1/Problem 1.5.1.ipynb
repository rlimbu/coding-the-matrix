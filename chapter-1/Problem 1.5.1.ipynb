{
 "cells": [
  {
   "cell_type": "markdown",
   "metadata": {},
   "source": [
    "# Problem 1.5.1"
   ]
  },
  {
   "cell_type": "markdown",
   "metadata": {},
   "source": [
    "An 11-symbol message has been encrypted as follows. Each symbol is represented by a number between 0 and 26 (A -> 0, B -> 1, ..., Z -> 25, space -> 26). Each number\n",
    "is represented by a five-bit binary sequence (0 -> 00000, 1 -> 00001, ...,26 -> 11010). Finally, the resulting sequence of 55 bits is encrypted using a flawed version of the one-time pad: the\n",
    "key is not 55 random bits but 11 copies of the same sequence of 5 random bits. The cyphertext is\n",
    "\n",
    "10101 00100 10101 01011 11001 00011 01011 10101 00100 11001 11010\n",
    "\n",
    "Try to find the plaintext."
   ]
  },
  {
   "cell_type": "code",
   "execution_count": 1,
   "metadata": {},
   "outputs": [],
   "source": [
    "import string"
   ]
  },
  {
   "cell_type": "markdown",
   "metadata": {},
   "source": [
    "### 1. Create Mappings from Upper Case Letters to Binary Strings and Vice Versa"
   ]
  },
  {
   "cell_type": "code",
   "execution_count": 2,
   "metadata": {},
   "outputs": [],
   "source": [
    "symbols = string.ascii_uppercase + ' '\n",
    "alpha_to_bin = {s: format(n, \"05b\") for n, s in enumerate(symbols)} \n",
    "bin_to_alpha = {v:k for k, v in alpha_to_bin.items()}"
   ]
  },
  {
   "cell_type": "code",
   "execution_count": 3,
   "metadata": {},
   "outputs": [
    {
     "data": {
      "text/plain": [
       "{'A': '00000',\n",
       " 'B': '00001',\n",
       " 'C': '00010',\n",
       " 'D': '00011',\n",
       " 'E': '00100',\n",
       " 'F': '00101',\n",
       " 'G': '00110',\n",
       " 'H': '00111',\n",
       " 'I': '01000',\n",
       " 'J': '01001',\n",
       " 'K': '01010',\n",
       " 'L': '01011',\n",
       " 'M': '01100',\n",
       " 'N': '01101',\n",
       " 'O': '01110',\n",
       " 'P': '01111',\n",
       " 'Q': '10000',\n",
       " 'R': '10001',\n",
       " 'S': '10010',\n",
       " 'T': '10011',\n",
       " 'U': '10100',\n",
       " 'V': '10101',\n",
       " 'W': '10110',\n",
       " 'X': '10111',\n",
       " 'Y': '11000',\n",
       " 'Z': '11001',\n",
       " ' ': '11010'}"
      ]
     },
     "execution_count": 3,
     "metadata": {},
     "output_type": "execute_result"
    }
   ],
   "source": [
    "alpha_to_bin"
   ]
  },
  {
   "cell_type": "code",
   "execution_count": 4,
   "metadata": {},
   "outputs": [
    {
     "data": {
      "text/plain": [
       "{'00000': 'A',\n",
       " '00001': 'B',\n",
       " '00010': 'C',\n",
       " '00011': 'D',\n",
       " '00100': 'E',\n",
       " '00101': 'F',\n",
       " '00110': 'G',\n",
       " '00111': 'H',\n",
       " '01000': 'I',\n",
       " '01001': 'J',\n",
       " '01010': 'K',\n",
       " '01011': 'L',\n",
       " '01100': 'M',\n",
       " '01101': 'N',\n",
       " '01110': 'O',\n",
       " '01111': 'P',\n",
       " '10000': 'Q',\n",
       " '10001': 'R',\n",
       " '10010': 'S',\n",
       " '10011': 'T',\n",
       " '10100': 'U',\n",
       " '10101': 'V',\n",
       " '10110': 'W',\n",
       " '10111': 'X',\n",
       " '11000': 'Y',\n",
       " '11001': 'Z',\n",
       " '11010': ' '}"
      ]
     },
     "execution_count": 4,
     "metadata": {},
     "output_type": "execute_result"
    }
   ],
   "source": [
    "bin_to_alpha"
   ]
  },
  {
   "cell_type": "markdown",
   "metadata": {},
   "source": [
    "### 2. The Cipher"
   ]
  },
  {
   "cell_type": "code",
   "execution_count": 5,
   "metadata": {},
   "outputs": [],
   "source": [
    "cipher = ['10101', '00100', '10101', '01011', '11001', '00011', '01011', '10101', '00100', '11001', '11010']"
   ]
  },
  {
   "cell_type": "markdown",
   "metadata": {},
   "source": [
    "### 3. The Keys"
   ]
  },
  {
   "cell_type": "markdown",
   "metadata": {},
   "source": [
    "Since there can be a maximum of 32 keys, generate and save them in a list"
   ]
  },
  {
   "cell_type": "code",
   "execution_count": 6,
   "metadata": {},
   "outputs": [],
   "source": [
    "keyList = [format(i, \"05b\") for i in range(32)]"
   ]
  },
  {
   "cell_type": "markdown",
   "metadata": {},
   "source": [
    "### 4. Decrypt Function"
   ]
  },
  {
   "cell_type": "code",
   "execution_count": 7,
   "metadata": {},
   "outputs": [],
   "source": [
    "def decrypt(kList, cipher):\n",
    "    \"\"\"\n",
    "    Given a list of possible 5-bit keys and a cipher of 5-bit symbols, returns a\n",
    "    dictionary of keys and decrypted messages.\n",
    "    \n",
    "    \"\"\"\n",
    "    \n",
    "    d = {}\n",
    "    for k in kList:\n",
    "        afterXor = [(int(c, 2) ^ int(k, 2)) % 27 for c in cipher]\n",
    "        afterXor_to_bin = [format(n, \"05b\") for n in afterXor]\n",
    "        decrypted = [bin_to_alpha[k] for k in afterXor_to_bin]\n",
    "        d[k] = decrypted\n",
    "    return d"
   ]
  },
  {
   "cell_type": "code",
   "execution_count": 8,
   "metadata": {},
   "outputs": [],
   "source": [
    "d= decrypt(keyList, cipher)"
   ]
  },
  {
   "cell_type": "code",
   "execution_count": 9,
   "metadata": {},
   "outputs": [
    {
     "name": "stdout",
     "output_type": "stream",
     "text": [
      "00000 -> VEVLZDLVEZ \n",
      "00001 -> UFUKYCKUFYA\n",
      "00010 -> XGXJABJXGAY\n",
      "00011 -> WHWI AIWH Z\n",
      "00100 -> RARPCHPRACD\n",
      "00101 -> QBQOBGOQBBE\n",
      "00110 -> TCTNEFNTCEB\n",
      "00111 -> SDSMDEMSDDC\n",
      "01000 -> CMCDRLDCMRS\n",
      "01001 -> BNBCQKCBNQT\n",
      "01010 -> EOEBTJBEOTQ\n",
      "01011 -> DPDASIADPSR\n",
      "01100 -> ZIZHVPHZIVW\n",
      "01101 -> YJYGUOGYJUX\n",
      "01110 -> AKAFXNFAKXU\n",
      "01111 ->  L EWME LWV\n",
      "10000 -> FUFAJTAFUJK\n",
      "10001 -> EVE IS EVIL\n",
      "10010 -> HWHZLRZHWLI\n",
      "10011 -> GXGYKQYGXKJ\n",
      "10100 -> BQBENXEBQNO\n",
      "10101 -> ARADMWDARMP\n",
      "10110 -> DSDCPVCDSPM\n",
      "10111 -> CTCBOUBCTON\n",
      "11000 -> NBNTBATNBBC\n",
      "11001 -> MCMSA SMCAD\n",
      "11010 -> PDPRDZRPDDA\n",
      "11011 -> OEOQCYQOECB\n",
      "11100 -> JYJXFEXJYFG\n",
      "11101 -> IZIWEDWIZEH\n",
      "11110 -> L LVHCVL HE\n",
      "11111 -> KAKUGBUKAGF\n"
     ]
    }
   ],
   "source": [
    "for k, v in d.items():\n",
    "    print(k + \" -> \" + \"\".join(v))"
   ]
  },
  {
   "cell_type": "markdown",
   "metadata": {},
   "source": [
    "### 5. The Plaintext"
   ]
  },
  {
   "cell_type": "markdown",
   "metadata": {},
   "source": [
    "A scan of the decrypted messages above shows one that reads \"EVE IS EVIL\". The associated key is \"10001\"."
   ]
  }
 ],
 "metadata": {
  "kernelspec": {
   "display_name": "Python 3",
   "language": "python",
   "name": "python3"
  },
  "language_info": {
   "codemirror_mode": {
    "name": "ipython",
    "version": 3
   },
   "file_extension": ".py",
   "mimetype": "text/x-python",
   "name": "python",
   "nbconvert_exporter": "python",
   "pygments_lexer": "ipython3",
   "version": "3.7.1"
  }
 },
 "nbformat": 4,
 "nbformat_minor": 2
}
